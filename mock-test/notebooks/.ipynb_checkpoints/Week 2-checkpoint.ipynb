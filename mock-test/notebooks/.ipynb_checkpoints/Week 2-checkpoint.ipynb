{
 "cells": [
  {
   "cell_type": "markdown",
   "id": "31dcac93-4231-41b9-8238-ce275c246fdc",
   "metadata": {
    "jp-MarkdownHeadingCollapsed": true
   },
   "source": [
    "### **Introduction to Functions**\n",
    "\n",
    "Functions help make our code reusable, modular, and easier to debug. Instead of writing the same code over and over, we define a function once and call it whenever needed\n"
   ]
  },
  {
   "cell_type": "code",
   "execution_count": 4,
   "id": "0038fa9a-67a3-47aa-8819-bd46e86cdefc",
   "metadata": {},
   "outputs": [
    {
     "name": "stdout",
     "output_type": "stream",
     "text": [
      "Hello, welcome to Python functions!\n"
     ]
    }
   ],
   "source": [
    "def greet():\n",
    "    print(\"Hello, welcome to Python functions!\")\n",
    "    \n",
    "greet()\n"
   ]
  },
  {
   "cell_type": "markdown",
   "id": "a9b843b1-64d0-4050-9e5d-dec4883f94a0",
   "metadata": {},
   "source": [
    "`def` – This tells Python we are defining a function.\n",
    "\n",
    "`greet()` – This is the function call (it runs the function)."
   ]
  },
  {
   "cell_type": "code",
   "execution_count": 8,
   "id": "ff9cb550-c000-47c0-a3e5-4b2e7d971e29",
   "metadata": {},
   "outputs": [
    {
     "name": "stdout",
     "output_type": "stream",
     "text": [
      "Hello, Alice! Welcome to Python functions.\n",
      "Hello, Bob! Welcome to Python functions.\n"
     ]
    }
   ],
   "source": [
    "def greet(name):\n",
    "    print(f\"Hello, {name}! Welcome to Python functions.\")\n",
    "\n",
    "greet(\"Alice\")\n",
    "greet(\"Bob\")\n"
   ]
  },
  {
   "cell_type": "markdown",
   "id": "c95dbba7-441a-415b-94e6-b9068f7ec56c",
   "metadata": {},
   "source": [
    "In data engineering, column names in datasets are often messy. Let’s write a function that ensures they are consistent."
   ]
  },
  {
   "cell_type": "code",
   "execution_count": 11,
   "id": "c981aae5-7219-4234-8953-21ceb6b2f751",
   "metadata": {},
   "outputs": [
    {
     "name": "stdout",
     "output_type": "stream",
     "text": [
      "customer_name\n"
     ]
    }
   ],
   "source": [
    "def clean_column_name(column_name):\n",
    "    return column_name.strip().lower().replace(\" \", \"_\")\n",
    "\n",
    "print(clean_column_name(\"  Customer Name  \"))  # Output: customer_name"
   ]
  },
  {
   "cell_type": "markdown",
   "id": "20d6348e-98fa-4d66-9b84-d8282052a26e",
   "metadata": {},
   "source": [
    "**An improved version**"
   ]
  },
  {
   "cell_type": "code",
   "execution_count": 22,
   "id": "03c72811-50d0-4274-b211-79738426abe3",
   "metadata": {},
   "outputs": [
    {
     "name": "stdout",
     "output_type": "stream",
     "text": [
      "['employee_id', 'full_name', 'salary', 'hire_date', 'dept_code']\n"
     ]
    }
   ],
   "source": [
    "import re\n",
    "\n",
    "def clean_column_name(column_name):\n",
    "    \"\"\"\n",
    "    Cleans a column name by:\n",
    "    - Removing all special characters\n",
    "    - Replacing spaces with underscores\n",
    "    - Converting to lowercase\n",
    "    - Stripping leading/trailing underscores\n",
    "    \"\"\"\n",
    "    column_name = column_name.lower()  # Convert to lowercase\n",
    "    column_name = re.sub(r'[^a-z0-9_]', '_', column_name)  # Replace special chars with _\n",
    "    column_name = re.sub(r'_{2,}', '_', column_name)  # Replace multiple underscores with single _\n",
    "    return column_name.strip('_')  # Remove leading/trailing underscores\n",
    "\n",
    "def clean_column_names(columns):\n",
    "    \"\"\"\n",
    "    Cleans a list of column names.\n",
    "    \"\"\"\n",
    "    return [clean_column_name(col) for col in columns]\n",
    "\n",
    "# Example usage:\n",
    "raw_columns = [\"Employee ID#\", \"Full Name!\", \"Salary ($)\", \"Hire Date\", \"Dept_Code\"]\n",
    "cleaned_columns = clean_column_names(raw_columns)\n",
    "print(cleaned_columns)\n"
   ]
  },
  {
   "cell_type": "markdown",
   "id": "bf538a4b-389e-4fd9-b725-22cf0e66a78d",
   "metadata": {
    "jp-MarkdownHeadingCollapsed": true
   },
   "source": [
    "### **Function Arguments (Positional & Keyword Arguments)**\n",
    "<hr></hr>\n",
    "\n",
    "**Positional vs Keyword Arguments**"
   ]
  },
  {
   "cell_type": "code",
   "execution_count": 19,
   "id": "4be7cb1f-8eb3-4677-ad0e-b04fa6f3e3b6",
   "metadata": {},
   "outputs": [
    {
     "name": "stdout",
     "output_type": "stream",
     "text": [
      "Here is your large latte coffee.\n",
      "Here is your small espresso coffee.\n"
     ]
    }
   ],
   "source": [
    "def order_coffee(size, type):\n",
    "    print(f\"Here is your {size} {type} coffee.\")\n",
    "\n",
    "order_coffee(\"large\", \"latte\")  # Positional arguments\n",
    "order_coffee(type=\"espresso\", size=\"small\")  # Keyword arguments\n"
   ]
  },
  {
   "cell_type": "markdown",
   "id": "d2d0574a-9671-455a-9a57-46a392ca0217",
   "metadata": {},
   "source": [
    "**Default Argument Values**"
   ]
  },
  {
   "cell_type": "code",
   "execution_count": 24,
   "id": "c0e0f6f1-d9d9-4282-a9ca-8bb64dcca7f7",
   "metadata": {},
   "outputs": [
    {
     "name": "stdout",
     "output_type": "stream",
     "text": [
      "Here is your medium black coffee.\n",
      "Here is your small black coffee.\n",
      "Here is your medium cappuccino coffee.\n"
     ]
    }
   ],
   "source": [
    "def order_coffee(size=\"medium\", type=\"black\"):\n",
    "    print(f\"Here is your {size} {type} coffee.\")\n",
    "\n",
    "order_coffee()  # Uses defaults\n",
    "order_coffee(\"small\")  # Overrides size, keeps type as \"black\"\n",
    "order_coffee(type=\"cappuccino\")  # Keeps size as \"medium\"\n"
   ]
  },
  {
   "cell_type": "markdown",
   "id": "e2233ee9-6be8-4f0f-9435-84625e188f4d",
   "metadata": {},
   "source": [
    "#### **DE Use Case: Log Processing Function**"
   ]
  },
  {
   "cell_type": "code",
   "execution_count": 27,
   "id": "7a870d81-4321-4781-a06e-6b4746ac05db",
   "metadata": {},
   "outputs": [
    {
     "name": "stdout",
     "output_type": "stream",
     "text": [
      "['2025-02-24', 'INFO', 'Data pipeline started']\n"
     ]
    }
   ],
   "source": [
    "def parse_log_entry(log, separator=\"|\"):\n",
    "    return log.strip().split(separator)\n",
    "\n",
    "log_entry = \"2025-02-24|INFO|Data pipeline started\"\n",
    "print(parse_log_entry(log_entry))  # Output: ['2025-02-24', 'INFO', 'Data pipeline started']\n"
   ]
  },
  {
   "cell_type": "code",
   "execution_count": 18,
   "id": "db74a97d-c3d1-428f-9f95-bb8d2524dcca",
   "metadata": {},
   "outputs": [],
   "source": [
    "import csv\n",
    "import logging\n",
    "from typing import List, Dict, Optional, Union\n",
    "import os\n",
    "import re\n",
    "\n",
    "# Configure logging\n",
    "logging.basicConfig(level=logging.INFO)\n",
    "logger = logging.getLogger(__name__)\n",
    "\n",
    "import os\n",
    "import csv\n",
    "import re\n",
    "\n",
    "def detect_separator(line: str):\n",
    "    \"\"\"\n",
    "    Detects the most likely separator in a given line.\n",
    "    \n",
    "    Args:\n",
    "        line (str): A single line of text.\n",
    "    \n",
    "    Returns:\n",
    "        str: Detected separator or None if no common separator is found.\n",
    "    \"\"\"\n",
    "    common_separators = [\"|\", \",\", \";\", \"\\t\"]\n",
    "    separator_counts = {sep: line.count(sep) for sep in common_separators}\n",
    "    \n",
    "    # Return the separator with the highest occurrence\n",
    "    return max(separator_counts, key=separator_counts.get) if any(separator_counts.values()) else None\n",
    "\n",
    "def process_log_file(file_path: str):\n",
    "    \"\"\"\n",
    "    Reads a log file and processes it into a structured format, dynamically detecting separators per line.\n",
    "    \n",
    "    Args:\n",
    "        file_path (str): Relative or absolute path to the log file.\n",
    "    \n",
    "    Returns:\n",
    "        list[dict]: List of log entries as dictionaries.\n",
    "    \"\"\"\n",
    "    log_entries = []\n",
    "    \n",
    "    if not os.path.exists(file_path):\n",
    "        raise FileNotFoundError(f\"Log file not found: {file_path}\")\n",
    "    \n",
    "    with open(file_path, \"r\", encoding=\"utf-8\") as file:\n",
    "        header_line = file.readline().strip()\n",
    "        separator = detect_separator(header_line)\n",
    "        \n",
    "        if separator is None:\n",
    "            raise ValueError(\"Could not determine a valid separator in the header line.\")\n",
    "        \n",
    "        # Reset file pointer and read all lines dynamically detecting separators\n",
    "        file.seek(0)\n",
    "        lines = file.readlines()\n",
    "\n",
    "        # Extract column headers\n",
    "        headers = [col.strip() for col in re.split(rf\"[{re.escape(separator)}]\", lines[0].strip())]\n",
    "\n",
    "        for line in lines[1:]:\n",
    "            line = line.strip()\n",
    "            current_separator = detect_separator(line)  # Detect separator per line\n",
    "\n",
    "            values = [val.strip() for val in line.split(current_separator)]\n",
    "            log_entries.append(dict(zip(headers, values)))\n",
    "\n",
    "    return log_entries\n",
    "\n"
   ]
  },
  {
   "cell_type": "code",
   "execution_count": 19,
   "id": "248cb58c-c95a-4e2e-9d77-4c1b54969e2c",
   "metadata": {},
   "outputs": [
    {
     "name": "stdout",
     "output_type": "stream",
     "text": [
      "C:\\Users\\fpicaso\\envs\\notebooks\\data\\logs.txt\n",
      "{'timestamp': '2025-02-24 10:15:30', 'level': 'INFO', 'message': 'User logged in', 'user': 'john_doe'}\n",
      "{'timestamp': '2025-02-24 10:16:05', 'level': 'WARNING', 'message': 'Failed login attempt', 'user': 'jane_doe'}\n",
      "{'timestamp': '2025-02-24 10:18:20', 'level': 'ERROR', 'message': 'Database connection failed', 'user': 'admin'}\n",
      "{'timestamp': '2025-02-24 10:25:00', 'level': 'INFO', 'message': 'Password changed', 'user': 'john_doe'}\n",
      "{'timestamp': '2025-02-24 10:30:10', 'level': 'ERROR', 'message': 'Application crash', 'user': 'system'}\n",
      "{'timestamp': '2025-02-24 10:35:45', 'level': 'DEBUG', 'message': 'Configuration updated', 'user': 'dev_user'}\n",
      "{'timestamp': '2025-02-24 10:40:20', 'level': 'WARNING', 'message': 'High memory usage', 'user': 'system'}\n",
      "{'timestamp': '2025-02-24 10:45:55', 'level': 'INFO', 'message': 'User logged out', 'user': 'jane_doe'}\n",
      "{'timestamp': '2025-02-24 10:50:30', 'level': 'ERROR', 'message': 'Server timeout', 'user': 'admin'}\n",
      "{'timestamp': '2025-02-24 10:55:15', 'level': 'INFO', 'message': 'Backup completed', 'user': 'backup_user'}\n",
      "{'timestamp': '2025-02-24 10:20:45', 'level': 'INFO', 'message': 'File uploaded', 'user': 'john_doe'}\n",
      "{'timestamp': '2025-02-24 10:21:10', 'level': 'ERROR', 'message': 'Disk space low', 'user': 'system'}\n",
      "{'timestamp': '2025-02-24 11:00:05', 'level': 'DEBUG', 'message': 'Service restarted', 'user': 'dev_user'}\n",
      "{'timestamp': '2025-02-24 11:05:30', 'level': 'INFO', 'message': 'New user registered', 'user': 'new_user'}\n",
      "{'timestamp': '2025-02-24 10:22:30', 'level': 'DEBUG', 'message': 'Cache cleared', 'user': 'dev_user'}\n",
      "{'timestamp': '2025-02-24 10:23:15', 'level': 'INFO', 'message': 'Scheduled task executed', 'user': 'cron'}\n",
      "{'timestamp': '2025-02-24 11:10:50', 'level': 'ERROR', 'message': 'Permission denied', 'user': 'guest'}\n",
      "{'timestamp': '2025-02-24 11:15:25', 'level': 'WARNING', 'message': 'Session expired', 'user': 'jane_doe'}\n"
     ]
    }
   ],
   "source": [
    "import os\n",
    "file_path = os.path.join(os.getcwd(), \"data\", \"logs.txt\")\n",
    "print(file_path)\n",
    "\n",
    "log_entries = process_log_file(file_path)\n",
    "\n",
    "for entry in log_entries:\n",
    "    print(entry)"
   ]
  },
  {
   "cell_type": "markdown",
   "id": "6b736b0d-62cf-425a-ac57-548f53e8f463",
   "metadata": {
    "jp-MarkdownHeadingCollapsed": true
   },
   "source": [
    "### **`*args`, `**kwargs` & Argument Unpacking**\n",
    "\n",
    "One of the best features of Python functions is the extremely flexible parameter handling mechanism. Closely related are the use of * and ** to unpack iterables and mappings into separate arguments when we call a function.\n",
    "\n",
    "**`*args`: Accepting multiple positional arguments**\n",
    "\n",
    "`*args` allows a function to accept any number of positional arguments (i.e., arguments passed without specifying a keyword).\n",
    "\n",
    "- `*args` collects all extra positional arguments passed to a function into a **tuple**.\n",
    "- You can loop through `args` like a normal tuple."
   ]
  },
  {
   "cell_type": "code",
   "execution_count": 20,
   "id": "74179924-319f-4113-b19b-5b8c980f78d5",
   "metadata": {},
   "outputs": [
    {
     "name": "stdout",
     "output_type": "stream",
     "text": [
      "60\n"
     ]
    }
   ],
   "source": [
    "def sum_numbers(*args):\n",
    "    return sum(args)\n",
    "\n",
    "print(sum_numbers(10, 20, 30))  # Output: 60\n"
   ]
  },
  {
   "cell_type": "code",
   "execution_count": 22,
   "id": "caa6cf37-2246-4a96-a767-0e74386468c6",
   "metadata": {},
   "outputs": [
    {
     "name": "stdout",
     "output_type": "stream",
     "text": [
      "Hello, Alice!\n",
      "Hello, Bob!\n",
      "Hello, Charlie!\n"
     ]
    }
   ],
   "source": [
    "def greet(*args):\n",
    "    for name in args:\n",
    "        print(f\"Hello, {name}!\")\n",
    "\n",
    "greet(\"Alice\", \"Bob\", \"Charlie\")  \n"
   ]
  },
  {
   "cell_type": "markdown",
   "id": "4a2c6c52-6a46-433d-ba1f-9bc69cb1c35e",
   "metadata": {},
   "source": [
    "**Combining `*args` with Positional Arguments**\n",
    "\n",
    "- `first_name` and `last_name` are regular positional arguments.\n",
    "- `*hobbies` collects any extra positional arguments into a tuple."
   ]
  },
  {
   "cell_type": "code",
   "execution_count": 24,
   "id": "3260591a-01e6-44da-b22c-4f5c2e8de0d1",
   "metadata": {},
   "outputs": [
    {
     "name": "stdout",
     "output_type": "stream",
     "text": [
      "Name: Alice Johnson\n",
      "Hobbies:\n",
      "- Reading\n",
      "- Hiking\n",
      "- Painting\n"
     ]
    }
   ],
   "source": [
    "def introduce(first_name, last_name, *hobbies):\n",
    "    print(f\"Name: {first_name} {last_name}\")\n",
    "    \n",
    "    if hobbies:\n",
    "        print(\"Hobbies:\")\n",
    "        for hobby in hobbies:\n",
    "            print(f\"- {hobby}\")\n",
    "\n",
    "introduce(\"Alice\", \"Johnson\", \"Reading\", \"Hiking\", \"Painting\")\n"
   ]
  },
  {
   "cell_type": "markdown",
   "id": "d972510a-9eaf-4d01-a60e-68865b3fb895",
   "metadata": {},
   "source": [
    "**`**kwargs`: Accepting multiple keyword arguments**\n",
    "\n",
    "`**kwargs` allows a function to accept any number of keyword arguments (i.e., arguments passed as key=value pairs).\n",
    "\n",
    "\n",
    "- `**kwargs` collects all extra keyword arguments into a **dictionary**.\n",
    "- You can access the dictionary normally or loop through it."
   ]
  },
  {
   "cell_type": "code",
   "execution_count": 25,
   "id": "5e10c7b4-0f02-4e08-a25d-0fa8b4431d1e",
   "metadata": {},
   "outputs": [
    {
     "name": "stdout",
     "output_type": "stream",
     "text": [
      "name: Alice\n",
      "age: 25\n",
      "city: New York\n"
     ]
    }
   ],
   "source": [
    "def display_info(**kwargs):\n",
    "    for key, value in kwargs.items():\n",
    "        print(f\"{key}: {value}\")\n",
    "\n",
    "display_info(name=\"Alice\", age=25, city=\"New York\")\n"
   ]
  },
  {
   "cell_type": "markdown",
   "id": "97d5cdd6-119b-413f-8c39-526bab672f4f",
   "metadata": {
    "jp-MarkdownHeadingCollapsed": true
   },
   "source": [
    "### **Combining `*args` and `**kwargs`**\n",
    "\n",
    "You can use *args and **kwargs together in the same function.\n",
    "\n",
    "- `\"Welcome to the event!\"` is a normal parameter.\n",
    "- `\"Alice\"` and `\"Bob\"` go into `*args` as a tuple → (\"Alice\", \"Bob\").\n",
    "- `age=30`, `city=\"New York\"`, `profession=\"Engineer\"` go into `**kwargs` as a dictionary."
   ]
  },
  {
   "cell_type": "code",
   "execution_count": 26,
   "id": "4a55cc29-5b0c-48e1-8d85-07214a10c86e",
   "metadata": {},
   "outputs": [
    {
     "name": "stdout",
     "output_type": "stream",
     "text": [
      "Welcome to the event!\n",
      "\n",
      "Positional Arguments (args):\n",
      "- Alice\n",
      "- Bob\n",
      "\n",
      "Keyword Arguments (kwargs):\n",
      "age: 30\n",
      "city: New York\n",
      "profession: Engineer\n"
     ]
    }
   ],
   "source": [
    "def describe_person(greeting, *args, **kwargs):\n",
    "    print(greeting)\n",
    "    \n",
    "    print(\"\\nPositional Arguments (args):\")\n",
    "    for item in args:\n",
    "        print(f\"- {item}\")\n",
    "    \n",
    "    print(\"\\nKeyword Arguments (kwargs):\")\n",
    "    for key, value in kwargs.items():\n",
    "        print(f\"{key}: {value}\")\n",
    "\n",
    "describe_person(\n",
    "    \"Welcome to the event!\",\n",
    "    \"Alice\", \"Bob\",  # *args\n",
    "    age=30, city=\"New York\", profession=\"Engineer\"  # **kwargs\n",
    ")\n"
   ]
  },
  {
   "cell_type": "markdown",
   "id": "578ef85c-863d-49fc-a386-1a0e36797024",
   "metadata": {
    "jp-MarkdownHeadingCollapsed": true
   },
   "source": [
    "### **Using `*args` and `**kwargs` for Function Wrapping**\n",
    "\n",
    "A common use case for `*args` and `**kwargs` is function decorators or wrappers, where they allow passing arbitrary arguments to another function.\n",
    "\n",
    "- The decorator `log_function_call` wraps `add()`, allowing any arguments to be passed dynamically.\n",
    "- `*args` and `**kwargs` ensure flexibility for different function signatures."
   ]
  },
  {
   "cell_type": "code",
   "execution_count": 28,
   "id": "0f540c10-d44b-40a0-a190-4771d2a3a7b2",
   "metadata": {},
   "outputs": [
    {
     "name": "stdout",
     "output_type": "stream",
     "text": [
      "Calling function add with:\n",
      "  Positional args: (5, 10)\n",
      "  Keyword args: {}\n",
      "add function\n",
      "  Result: 15\n"
     ]
    },
    {
     "data": {
      "text/plain": [
       "15"
      ]
     },
     "execution_count": 28,
     "metadata": {},
     "output_type": "execute_result"
    }
   ],
   "source": [
    "def log_function_call(func):\n",
    "    def wrapper(*args, **kwargs):\n",
    "        print(f\"Calling function {func.__name__} with:\")\n",
    "        print(f\"  Positional args: {args}\")\n",
    "        print(f\"  Keyword args: {kwargs}\")\n",
    "        result = func(*args, **kwargs)\n",
    "        print(f\"  Result: {result}\")\n",
    "        return result\n",
    "    return wrapper\n",
    "\n",
    "@log_function_call\n",
    "def add(a, b):\n",
    "    print(\"add function\")\n",
    "    return a + b\n",
    "\n",
    "add(5, 10)\n"
   ]
  },
  {
   "cell_type": "markdown",
   "id": "ac852ce8-555e-469e-a0ab-866b045e3a89",
   "metadata": {},
   "source": [
    "**Sample Use Case:** Generate tags"
   ]
  },
  {
   "cell_type": "code",
   "execution_count": 29,
   "id": "26962da1-802f-43a5-803c-8200b942452d",
   "metadata": {},
   "outputs": [],
   "source": [
    "def tag(name, *content, class_=None, **attrs):\n",
    "    \"\"\"Generate one or more HTML tags\"\"\"\n",
    "    if class_ is not None:\n",
    "        attrs['class'] = class_\n",
    "    attr_pairs = (f' {attr}=\"{value}\"' for attr, value\n",
    "                    in sorted(attrs.items()))\n",
    "    attr_str = ''.join(attr_pairs)\n",
    "    if content:\n",
    "        elements = (f'<{name}{attr_str}>{c}</{name}>'\n",
    "                    for c in content)\n",
    "        return '\\n'.join(elements)\n",
    "    else:\n",
    "        return f'<{name}{attr_str} />'"
   ]
  },
  {
   "cell_type": "code",
   "execution_count": 35,
   "id": "d52255ab-3815-4d78-9638-5d9d9cd62078",
   "metadata": {},
   "outputs": [
    {
     "name": "stdout",
     "output_type": "stream",
     "text": [
      "<br />\n",
      "-------------------\n",
      "<p>hello</p>\n",
      "-------------------\n",
      "<p>hello</p>\n",
      "<p>world</p>\n",
      "-------------------\n",
      "<p id=\"33\">hello</p>\n",
      "-------------------\n",
      "<p class=\"sidebar\">hello</p>\n",
      "<p class=\"sidebar\">world</p>\n",
      "-------------------\n",
      "<img content=\"testing\" />\n",
      "-------------------\n",
      "<img class=\"framed\" src=\"sunset.jpg\" title=\"Sunset Boulevard\" />\n"
     ]
    }
   ],
   "source": [
    "print(tag('br'))\n",
    "print(\"-------------------\")\n",
    "print(tag('p', 'hello'))\n",
    "print(\"-------------------\")\n",
    "print(tag('p', 'hello', 'world'))\n",
    "print(\"-------------------\")\n",
    "print(tag('p', 'hello', id=33))\n",
    "print(\"-------------------\")\n",
    "print(tag('p', 'hello', 'world', class_='sidebar'))\n",
    "print(\"-------------------\")\n",
    "print(tag(content='testing', name=\"img\"))\n",
    "print(\"-------------------\")\n",
    "my_tag = {'name': 'img', 'title': 'Sunset Boulevard', 'src': 'sunset.jpg', 'class': 'framed'}\n",
    "print(tag(**my_tag))"
   ]
  },
  {
   "cell_type": "markdown",
   "id": "458472ef-c000-4037-9319-b1fd89840502",
   "metadata": {},
   "source": [
    "### **Return Values, Mutability & Side Effects**\n",
    "\n",
    "A function can return a value using return. This value can then be used elsewhere in the program"
   ]
  },
  {
   "cell_type": "code",
   "execution_count": 36,
   "id": "1b9d9029-ebc1-4c5f-9a73-545cc7b06368",
   "metadata": {},
   "outputs": [
    {
     "name": "stdout",
     "output_type": "stream",
     "text": [
      "8\n"
     ]
    }
   ],
   "source": [
    "def add_numbers(a, b):\n",
    "    return a + b  # This function \"returns\" a value\n",
    "\n",
    "result = add_numbers(5, 3)\n",
    "print(result)  # Output: 8\n"
   ]
  },
  {
   "cell_type": "code",
   "execution_count": 37,
   "id": "19583570-4d8b-4d64-91a4-7945f8101b10",
   "metadata": {},
   "outputs": [
    {
     "name": "stdout",
     "output_type": "stream",
     "text": [
      "x: 10.5, y: 20.3\n"
     ]
    }
   ],
   "source": [
    "def get_coordinates():\n",
    "    return (10.5, 20.3)  # Tuple return\n",
    "\n",
    "x, y = get_coordinates()\n",
    "print(f\"x: {x}, y: {y}\")\n"
   ]
  },
  {
   "cell_type": "markdown",
   "id": "b0a8f1ef-e7be-4d80-b8fc-1b6a713005ef",
   "metadata": {},
   "source": [
    "#### **Immutable Type (Returning a New Value)**"
   ]
  },
  {
   "cell_type": "code",
   "execution_count": 39,
   "id": "3789b969-327d-4e37-9976-7d94ca93b480",
   "metadata": {},
   "outputs": [
    {
     "name": "stdout",
     "output_type": "stream",
     "text": [
      "hello\n",
      "HELLO\n"
     ]
    }
   ],
   "source": [
    "def uppercase(text: str) -> str:\n",
    "    return text.upper()\n",
    "\n",
    "message = \"hello\"\n",
    "new_message = uppercase(message)\n",
    "\n",
    "print(message)      # \"hello\" (unchanged)\n",
    "print(new_message)  # \"HELLO\" (new value)\n"
   ]
  },
  {
   "cell_type": "markdown",
   "id": "24c7aabf-7a3e-4333-ae97-f7723d5118c5",
   "metadata": {},
   "source": [
    "#### **Mutable Type (Modifying In-Place)**"
   ]
  },
  {
   "cell_type": "code",
   "execution_count": 40,
   "id": "cc060dec-60b7-4f33-a6c7-a8a0af791b73",
   "metadata": {},
   "outputs": [
    {
     "name": "stdout",
     "output_type": "stream",
     "text": [
      "[2, 4, 6]\n"
     ]
    }
   ],
   "source": [
    "def double_numbers(numbers: list[int]) -> None:\n",
    "    for i in range(len(numbers)):\n",
    "        numbers[i] *= 2  # Modifies the original list\n",
    "\n",
    "values = [1, 2, 3]\n",
    "double_numbers(values)\n",
    "print(values)  # [2, 4, 6] (modified!)\n"
   ]
  },
  {
   "cell_type": "markdown",
   "id": "1a58811c-7a3b-48cb-b46b-08be7d735fab",
   "metadata": {},
   "source": [
    "**Make a copy of the parameter \"locally\" in the function to prevent modification**"
   ]
  },
  {
   "cell_type": "code",
   "execution_count": 42,
   "id": "9510f15a-d729-425e-bacc-859aae1315bd",
   "metadata": {},
   "outputs": [
    {
     "name": "stdout",
     "output_type": "stream",
     "text": [
      "[1, 2, 3, 99]\n",
      "[1, 2, 3, 99]\n"
     ]
    }
   ],
   "source": [
    "\"\"\"\n",
    "Not the correct solution\n",
    "\"\"\"\n",
    "def modify_list(numbers: list[int]) -> list[int]:\n",
    "    numbers_copy = numbers  # This still points to the same list!\n",
    "    numbers_copy.append(99) # This modifies the original list\n",
    "    return numbers_copy\n",
    "\n",
    "values = [1, 2, 3]\n",
    "new_values = modify_list(values)\n",
    "\n",
    "print(values)      # [1, 2, 3, 99]  (Oops! The original changed)\n",
    "print(new_values)  # [1, 2, 3, 99]\n"
   ]
  },
  {
   "cell_type": "code",
   "execution_count": 44,
   "id": "a4781132-a913-43ec-8268-9d016f3552ec",
   "metadata": {},
   "outputs": [
    {
     "name": "stdout",
     "output_type": "stream",
     "text": [
      "[1, 2, 3]\n",
      "[1, 2, 3, 99]\n"
     ]
    }
   ],
   "source": [
    "def modify_list_safe(numbers: list[int]) -> list[int]:\n",
    "    numbers_copy = numbers.copy()  # Creates a shallow copy\n",
    "    numbers_copy.append(99)  # Modifies the copy, not the original\n",
    "    return numbers_copy\n",
    "\n",
    "values = [1, 2, 3]\n",
    "new_values = modify_list_safe(values)\n",
    "\n",
    "print(values)      # [1, 2, 3]  (Unchanged)\n",
    "print(new_values)  # [1, 2, 3, 99]  (New list)\n"
   ]
  },
  {
   "cell_type": "markdown",
   "id": "95f05b59-9719-4577-b5a1-f199d22c3a7b",
   "metadata": {},
   "source": [
    "**Nested Lists (Deep Copy)**\n",
    "\n",
    "If the list contains other mutable objects (e.g., lists inside lists), .copy() won’t be enough—it only copies the top-level list, but the inner lists will still be shared.\n",
    "\n",
    "For nested structures, use `copy.deepcopy()`:"
   ]
  },
  {
   "cell_type": "code",
   "execution_count": 45,
   "id": "b8805761-b9ff-4e9b-ba5b-ce3d53649cbe",
   "metadata": {},
   "outputs": [
    {
     "name": "stdout",
     "output_type": "stream",
     "text": [
      "[[1, 2, 3], [4, 5, 6]]\n",
      "[[1, 2, 3, 99], [4, 5, 6]]\n"
     ]
    }
   ],
   "source": [
    "import copy\n",
    "\n",
    "def modify_nested_list_safe(numbers: list[list[int]]) -> list[list[int]]:\n",
    "    numbers_copy = copy.deepcopy(numbers)  # Deep copy ensures full isolation\n",
    "    numbers_copy[0].append(99)  # Modify copy\n",
    "    return numbers_copy\n",
    "\n",
    "values = [[1, 2, 3], [4, 5, 6]]\n",
    "new_values = modify_nested_list_safe(values)\n",
    "\n",
    "print(values)      # [[1, 2, 3], [4, 5, 6]]  (Unchanged)\n",
    "print(new_values)  # [[1, 2, 3, 99], [4, 5, 6]]  (New copy)\n"
   ]
  },
  {
   "cell_type": "markdown",
   "id": "3db87415-de66-4118-a882-3b8c97ae7516",
   "metadata": {},
   "source": [
    "#### **Side Effects**\n",
    "\n",
    "A side effect occurs when a function modifies external state instead of just returning a value."
   ]
  },
  {
   "cell_type": "code",
   "execution_count": 46,
   "id": "4332d2a8-fc98-4440-bd0f-4c8fed20e1c6",
   "metadata": {},
   "outputs": [
    {
     "name": "stdout",
     "output_type": "stream",
     "text": [
      "['alice']\n"
     ]
    }
   ],
   "source": [
    "usernames = []\n",
    "\n",
    "def add_user(username: str) -> None:\n",
    "    usernames.append(username)  # Side effect: modifies global list\n",
    "\n",
    "add_user(\"alice\")\n",
    "print(usernames)  # [\"alice\"]\n"
   ]
  },
  {
   "cell_type": "markdown",
   "id": "726ed9ba-b9dc-4928-bcb0-aea39e7cab63",
   "metadata": {},
   "source": [
    "**Logging to a file - Issues**"
   ]
  },
  {
   "cell_type": "code",
   "execution_count": 48,
   "id": "2122fcee-11ab-4310-b312-ffea31fe0fb8",
   "metadata": {},
   "outputs": [],
   "source": [
    "def log_message(message: str) -> None:\n",
    "    \"\"\"Logs a message to a hardcoded file.\"\"\"\n",
    "    with open(\"app.log\", \"a\") as log_file:  # Hardcoded file\n",
    "        log_file.write(message + \"\\n\")\n",
    "\n",
    "log_message(\"User logged in\")  # Always writes to app.log"
   ]
  },
  {
   "cell_type": "markdown",
   "id": "aa0d8db7-9664-4070-89f0-ff8728082507",
   "metadata": {},
   "source": [
    "**Solution: Use Dependency Injection (DI)**"
   ]
  },
  {
   "cell_type": "code",
   "execution_count": 49,
   "id": "16ce144f-b8f0-420d-a564-4a5898b3000b",
   "metadata": {},
   "outputs": [
    {
     "name": "stdout",
     "output_type": "stream",
     "text": [
      "Test log entry\n",
      "\n"
     ]
    }
   ],
   "source": [
    "from typing import TextIO\n",
    "import io\n",
    "\n",
    "def log_message(message: str, log_file: TextIO) -> None:\n",
    "    \"\"\"Logs a message to the provided file-like object.\"\"\"\n",
    "    log_file.write(message + \"\\n\")\n",
    "\n",
    "# Using a real file\n",
    "with open(\"app.log\", \"a\") as f:\n",
    "    log_message(\"User logged in\", f)  # Writes to app.log\n",
    "\n",
    "# Using an in-memory file for testing (NO file I/O!)\n",
    "fake_file = io.StringIO()\n",
    "log_message(\"Test log entry\", fake_file)\n",
    "\n",
    "# Verify the content written\n",
    "print(fake_file.getvalue())  # Output: \"Test log entry\\n\"\n"
   ]
  },
  {
   "cell_type": "code",
   "execution_count": null,
   "id": "d1eb31da-d7b6-4d7a-bdff-9973a4cce2ad",
   "metadata": {},
   "outputs": [],
   "source": []
  }
 ],
 "metadata": {
  "kernelspec": {
   "display_name": "Python (py312)",
   "language": "python",
   "name": "py312"
  },
  "language_info": {
   "codemirror_mode": {
    "name": "ipython",
    "version": 3
   },
   "file_extension": ".py",
   "mimetype": "text/x-python",
   "name": "python",
   "nbconvert_exporter": "python",
   "pygments_lexer": "ipython3",
   "version": "3.12.8"
  }
 },
 "nbformat": 4,
 "nbformat_minor": 5
}
